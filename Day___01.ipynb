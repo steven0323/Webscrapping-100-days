{
 "cells": [
  {
   "cell_type": "markdown",
   "metadata": {},
   "source": [
    "# Qestion-1\n",
    "1.（簡答題）檔案、API、爬蟲三種取得資料方式有什麼不同？"
   ]
  },
  {
   "cell_type": "code",
   "execution_count": 2,
   "metadata": {},
   "outputs": [],
   "source": [
    "#資料讀取中，檔案以及API屬於主動的資料，換句話說，使用者可以藉由檔案讀入便可獲得資料，然而，爬蟲屬於被動型態的資料，需要手動到網路上進行檔案獲得．"
   ]
  },
  {
   "cell_type": "code",
   "execution_count": 5,
   "metadata": {},
   "outputs": [],
   "source": [
    "from urllib.request import urlretrieve\n",
    "import os,sys"
   ]
  },
  {
   "cell_type": "code",
   "execution_count": 6,
   "metadata": {},
   "outputs": [
    {
     "data": {
      "text/plain": [
       "('Homework.txt', <http.client.HTTPMessage at 0x1105464e0>)"
      ]
     },
     "execution_count": 6,
     "metadata": {},
     "output_type": "execute_result"
    }
   ],
   "source": [
    "urlretrieve(\"https://www.w3.org/TR/PNG/iso_8859-1.txt\", \"Homework.txt\")"
   ]
  },
  {
   "cell_type": "code",
   "execution_count": 9,
   "metadata": {},
   "outputs": [
    {
     "name": "stdout",
     "output_type": "stream",
     "text": [
      "successfullt completed\n"
     ]
    }
   ],
   "source": [
    "dirs = os.listdir('./')\n",
    "\n",
    "files = []\n",
    "for file in dirs:\n",
    "    files.append(file)\n",
    "    \n",
    "if 'Homework.txt' in files:\n",
    "    print('successfullt completed')\n",
    "else:\n",
    "    print('error')"
   ]
  },
  {
   "cell_type": "markdown",
   "metadata": {},
   "source": [
    "# 將文字寫入檔案Homework.txt"
   ]
  },
  {
   "cell_type": "code",
   "execution_count": 16,
   "metadata": {},
   "outputs": [
    {
     "name": "stdout",
     "output_type": "stream",
     "text": [
      "11\n",
      "Hello World\n"
     ]
    }
   ],
   "source": [
    "f = \"Hello World\"\n",
    "\n",
    "with open(\"Homework.txt\",\"w\") as file:\n",
    "    file = file.write(f)\n",
    "    print(file)\n",
    "    \n",
    "try:\n",
    "    with open(\"Homework.txt\",\"r\") as file:\n",
    "        f = file.read()\n",
    "        print(f)\n",
    "except EnvironmentError:\n",
    "    pass"
   ]
  },
  {
   "cell_type": "code",
   "execution_count": 17,
   "metadata": {},
   "outputs": [
    {
     "name": "stdout",
     "output_type": "stream",
     "text": [
      "correct match the len of the sentence\n"
     ]
    }
   ],
   "source": [
    "if len(\"Hello World\") == len(f):\n",
    "    print('correct match the len of the sentence')\n",
    "else:\n",
    "    print('not match')"
   ]
  },
  {
   "cell_type": "code",
   "execution_count": 18,
   "metadata": {},
   "outputs": [
    {
     "name": "stdout",
     "output_type": "stream",
     "text": [
      "{'encoding': 'ascii', 'confidence': 1.0, 'language': ''}\n"
     ]
    }
   ],
   "source": [
    "import chardet\n",
    "\n",
    "with open('Homework.txt','rb') as file:\n",
    "    data = file.read()\n",
    "    print(chardet.detect(data))"
   ]
  },
  {
   "cell_type": "code",
   "execution_count": null,
   "metadata": {},
   "outputs": [],
   "source": []
  }
 ],
 "metadata": {
  "kernelspec": {
   "display_name": "Python 3",
   "language": "python",
   "name": "python3"
  },
  "language_info": {
   "codemirror_mode": {
    "name": "ipython",
    "version": 3
   },
   "file_extension": ".py",
   "mimetype": "text/x-python",
   "name": "python",
   "nbconvert_exporter": "python",
   "pygments_lexer": "ipython3",
   "version": "3.7.3"
  }
 },
 "nbformat": 4,
 "nbformat_minor": 2
}
