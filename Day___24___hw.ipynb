{
 "cells": [
  {
   "cell_type": "code",
   "execution_count": 1,
   "metadata": {},
   "outputs": [],
   "source": [
    "import time\n",
    "from bs4 import BeautifulSoup\n",
    "from selenium import webdriver\n",
    "from selenium.webdriver.common.keys import Keys"
   ]
  },
  {
   "cell_type": "code",
   "execution_count": 2,
   "metadata": {},
   "outputs": [],
   "source": [
    "url = \"https://www.104.com.tw/cust/list/index/?page=1&order=1&mode=s&jobsource=checkc&area=6001001000&indcat=1001002000\""
   ]
  },
  {
   "cell_type": "code",
   "execution_count": 3,
   "metadata": {},
   "outputs": [],
   "source": [
    "browser = webdriver.Chrome(executable_path='./chromedriver')\n",
    "browser.get(url)"
   ]
  },
  {
   "cell_type": "code",
   "execution_count": 4,
   "metadata": {},
   "outputs": [],
   "source": [
    "def scroll_down():\n",
    "    last_height = browser.execute_script(\"return document.body.scrollHeight\")\n",
    "    print(last_height)\n",
    "    while True:\n",
    "\n",
    "        # Scroll down to the bottom.\n",
    "        browser.execute_script(\"window.scrollTo(0, document.body.scrollHeight);\")\n",
    "\n",
    "        # Wait to load the page.\n",
    "        time.sleep(2)\n",
    "\n",
    "        # Calculate new scroll height and compare with last scroll height.\n",
    "        new_height = browser.execute_script(\"return document.body.scrollHeight\")\n",
    "        print(new_height)\n",
    "        if new_height == last_height:\n",
    "            print(\"到達頁面底端\")\n",
    "            break\n",
    "\n",
    "        last_height = new_height"
   ]
  },
  {
   "cell_type": "code",
   "execution_count": 5,
   "metadata": {},
   "outputs": [
    {
     "name": "stdout",
     "output_type": "stream",
     "text": [
      "6277\n",
      "6277\n",
      "到達頁面底端\n"
     ]
    }
   ],
   "source": [
    "scroll_down()"
   ]
  },
  {
   "cell_type": "code",
   "execution_count": null,
   "metadata": {},
   "outputs": [],
   "source": [
    "while True:\n",
    "    time.sleep(3)  # delay一段時間等待網頁更新完成\n",
    "    html = browser.page_source\n",
    "    soup = BeautifulSoup(html, 'lxml')\n",
    "    company_list = soup.find(\"div\", attrs={'id':\"company-result\"}).find_all(\"article\", attrs={'class':\"items\"})\n",
    "    \n",
    "    #\n",
    "    # 擷取公司名稱及簡介內容\n",
    "    #\n",
    "    for company in company_list:\n",
    "        # 因為內容太多，我們把爬取到的結果，寫入\"company_list.txt\"檔案中，稍後再來檢視\n",
    "        company_name = company.a.string\n",
    "        f = open(\"company_list.txt\", \"a+\", encoding='utf-8')\n",
    "        f.write( company_name + \"\\n\" )  # 寫入公司名稱\n",
    "        \n",
    "        company_desc = company.find(\"p\", attrs={'class':\"desc\"})\n",
    "        f.write( company_desc.string + \"\\n\" )  # 寫入公司簡介\n",
    "        f.write( \"--------------------------------------------------------------------------------\" + \"\\n\" )\n",
    "        f.close()"
   ]
  },
  {
   "cell_type": "code",
   "execution_count": 40,
   "metadata": {
    "scrolled": false
   },
   "outputs": [],
   "source": [
    "html = browser.page_source\n",
    "soup = BeautifulSoup(html,'lxml')\n",
    "links =soup.find(\"div\",class_=\"page-ctrl\")\n",
    "links = links.find_all('a',href=True)\n",
    "#drive.find_element_by_link_text(\"\")"
   ]
  },
  {
   "cell_type": "code",
   "execution_count": 45,
   "metadata": {
    "scrolled": true
   },
   "outputs": [
    {
     "data": {
      "text/plain": [
       "[<a class=\"page-num active\" data-value=\"1\" href=\"/cust/list/index?page=1&amp;area=6001001000&amp;indcat=1001002000&amp;order=1&amp;mode=s&amp;jobsource=checkc\">1</a>,\n",
       " <a class=\"page-num\" data-value=\"2\" href=\"/cust/list/index?page=2&amp;area=6001001000&amp;indcat=1001002000&amp;order=1&amp;mode=s&amp;jobsource=checkc\">2</a>,\n",
       " <a class=\"page-num\" data-value=\"3\" href=\"/cust/list/index?page=3&amp;area=6001001000&amp;indcat=1001002000&amp;order=1&amp;mode=s&amp;jobsource=checkc\">3</a>,\n",
       " <a class=\"page-num\" data-value=\"4\" href=\"/cust/list/index?page=4&amp;area=6001001000&amp;indcat=1001002000&amp;order=1&amp;mode=s&amp;jobsource=checkc\">4</a>,\n",
       " <a class=\"page-num\" data-value=\"5\" href=\"/cust/list/index?page=5&amp;area=6001001000&amp;indcat=1001002000&amp;order=1&amp;mode=s&amp;jobsource=checkc\">5</a>,\n",
       " <a class=\"page-num\" data-value=\"6\" href=\"/cust/list/index?page=6&amp;area=6001001000&amp;indcat=1001002000&amp;order=1&amp;mode=s&amp;jobsource=checkc\">6</a>,\n",
       " <a class=\"page-num\" data-value=\"7\" href=\"/cust/list/index?page=7&amp;area=6001001000&amp;indcat=1001002000&amp;order=1&amp;mode=s&amp;jobsource=checkc\">7</a>,\n",
       " <a class=\"page-next\" href=\"/cust/list/index?page=2&amp;area=6001001000&amp;indcat=1001002000&amp;order=1&amp;mode=s&amp;jobsource=checkc\">下一頁</a>]"
      ]
     },
     "execution_count": 45,
     "metadata": {},
     "output_type": "execute_result"
    }
   ],
   "source": [
    "links"
   ]
  },
  {
   "cell_type": "code",
   "execution_count": 49,
   "metadata": {},
   "outputs": [],
   "source": [
    "browser.find_element_by_class_name(\"page-next\").click()"
   ]
  },
  {
   "cell_type": "code",
   "execution_count": null,
   "metadata": {},
   "outputs": [],
   "source": []
  }
 ],
 "metadata": {
  "kernelspec": {
   "display_name": "Python 3",
   "language": "python",
   "name": "python3"
  },
  "language_info": {
   "codemirror_mode": {
    "name": "ipython",
    "version": 3
   },
   "file_extension": ".py",
   "mimetype": "text/x-python",
   "name": "python",
   "nbconvert_exporter": "python",
   "pygments_lexer": "ipython3",
   "version": "3.7.4"
  }
 },
 "nbformat": 4,
 "nbformat_minor": 2
}
