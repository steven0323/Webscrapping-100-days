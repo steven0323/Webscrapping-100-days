{
 "cells": [
  {
   "cell_type": "code",
   "execution_count": 1,
   "metadata": {},
   "outputs": [],
   "source": [
    "from selenium import webdriver\n",
    "from selenium.webdriver.support.ui import Select\n",
    "from bs4 import BeautifulSoup\n",
    "import requests"
   ]
  },
  {
   "cell_type": "code",
   "execution_count": 2,
   "metadata": {},
   "outputs": [],
   "source": [
    "def open_web(url):\n",
    "    browser = webdriver.Chrome(executable_path='./chromedriver')\n",
    "    browser.get(url)"
   ]
  },
  {
   "cell_type": "code",
   "execution_count": 4,
   "metadata": {},
   "outputs": [],
   "source": [
    "url = \"http://taqm.epa.gov.tw/taqm/tw/MonthlyAverage.aspx\"\n",
    "#open_web(url)\n",
    "browser = webdriver.Chrome(executable_path='./chromedriver')\n",
    "browser.get(url)\n",
    "selectSite = Select(browser.find_element_by_id(\"ctl05_ddlSite\"))\n",
    "selectSite.select_by_value('11')\n",
    "selectYear = Select(browser.find_element_by_id(\"ctl05_ddlYear\"))\n",
    "selectYear.select_by_value('2018')\n",
    "\n",
    "browser.find_element_by_id('ctl05_btnQuery').click()"
   ]
  },
  {
   "cell_type": "code",
   "execution_count": 8,
   "metadata": {},
   "outputs": [
    {
     "name": "stdout",
     "output_type": "stream",
     "text": [
      "SO2\n",
      "ppb\n",
      "CO\n",
      "ppm\n",
      "O3\n",
      "ppb\n",
      "PM10\n",
      "μg/m3\n",
      "NOx\n",
      "ppb\n",
      "NO\n",
      "ppb\n",
      "NO2\n",
      "ppb\n",
      "THC\n",
      "ppm\n",
      "NMHC\n",
      "ppm\n"
     ]
    }
   ],
   "source": [
    "# 取得資料，丟到 BeautifulSoup 解析\n",
    "\n",
    "html_source = browser.page_source\n",
    "\n",
    "soup = BeautifulSoup(html_source, 'html.parser')\n",
    "table = soup.find('table', class_='TABLE_G')\n",
    "\n",
    "for element in table.find_all(class_='no-alt'):\n",
    "    print(element.text)"
   ]
  },
  {
   "cell_type": "code",
   "execution_count": null,
   "metadata": {},
   "outputs": [],
   "source": []
  }
 ],
 "metadata": {
  "kernelspec": {
   "display_name": "Python 3",
   "language": "python",
   "name": "python3"
  },
  "language_info": {
   "codemirror_mode": {
    "name": "ipython",
    "version": 3
   },
   "file_extension": ".py",
   "mimetype": "text/x-python",
   "name": "python",
   "nbconvert_exporter": "python",
   "pygments_lexer": "ipython3",
   "version": "3.7.4"
  }
 },
 "nbformat": 4,
 "nbformat_minor": 2
}
