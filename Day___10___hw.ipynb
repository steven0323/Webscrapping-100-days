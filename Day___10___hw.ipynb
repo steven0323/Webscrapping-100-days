{
 "cells": [
  {
   "cell_type": "code",
   "execution_count": 12,
   "metadata": {},
   "outputs": [
    {
     "name": "stdout",
     "output_type": "stream",
     "text": [
      "Requirement already up-to-date: pip in /Users/yu_hsuantseng/opt/anaconda3/lib/python3.7/site-packages (19.3.1)\r\n"
     ]
    }
   ],
   "source": [
    "!pip install --upgrade pip"
   ]
  },
  {
   "cell_type": "code",
   "execution_count": 13,
   "metadata": {},
   "outputs": [
    {
     "name": "stdout",
     "output_type": "stream",
     "text": [
      "Processing /Users/yu_hsuantseng/Library/Caches/pip/wheels/84/ff/2d/08f71c11e5b73027dfa7d1ac8bd654b60af2df57ae89bd29d5/grab-0.6.41-cp37-none-any.whl\n",
      "Requirement already satisfied: defusedxml in /Users/yu_hsuantseng/opt/anaconda3/lib/python3.7/site-packages (from grab) (0.6.0)\n",
      "Requirement already satisfied: selection in /Users/yu_hsuantseng/opt/anaconda3/lib/python3.7/site-packages (from grab) (0.0.14)\n",
      "Requirement already satisfied: lxml; platform_system != \"Windows\" in /Users/yu_hsuantseng/opt/anaconda3/lib/python3.7/site-packages (from grab) (4.4.1)\n",
      "Processing /Users/yu_hsuantseng/Library/Caches/pip/wheels/77/c8/b6/bed2606b4ae3cf738c99c111d88ce33d8ae82171c40cbddbf0/pycurl-7.43.0.1-cp37-cp37m-macosx_10_9_x86_64.whl\n",
      "Requirement already satisfied: weblib>=0.1.28 in /Users/yu_hsuantseng/opt/anaconda3/lib/python3.7/site-packages (from grab) (0.1.30)\n",
      "Requirement already satisfied: six in /Users/yu_hsuantseng/opt/anaconda3/lib/python3.7/site-packages (from grab) (1.12.0)\n",
      "Requirement already satisfied: user-agent in /Users/yu_hsuantseng/opt/anaconda3/lib/python3.7/site-packages (from grab) (0.1.9)\n",
      "Requirement already satisfied: pytils in /Users/yu_hsuantseng/opt/anaconda3/lib/python3.7/site-packages (from weblib>=0.1.28->grab) (0.3)\n",
      "Installing collected packages: pycurl, grab\n",
      "  Found existing installation: pycurl 7.43.0.3\n",
      "\u001b[31mERROR: Cannot uninstall 'pycurl'. It is a distutils installed project and thus we cannot accurately determine which files belong to it which would lead to only a partial uninstall.\u001b[0m\n"
     ]
    }
   ],
   "source": [
    "!pip install grab"
   ]
  },
  {
   "cell_type": "code",
   "execution_count": 3,
   "metadata": {},
   "outputs": [
    {
     "ename": "ModuleNotFoundError",
     "evalue": "No module named 'grab'",
     "output_type": "error",
     "traceback": [
      "\u001b[0;31m---------------------------------------------------------------------------\u001b[0m",
      "\u001b[0;31mModuleNotFoundError\u001b[0m                       Traceback (most recent call last)",
      "\u001b[0;32m<ipython-input-3-394427763805>\u001b[0m in \u001b[0;36m<module>\u001b[0;34m\u001b[0m\n\u001b[0;32m----> 1\u001b[0;31m \u001b[0;32mfrom\u001b[0m \u001b[0mgrab\u001b[0m \u001b[0;32mimport\u001b[0m \u001b[0mGrab\u001b[0m\u001b[0;34m\u001b[0m\u001b[0;34m\u001b[0m\u001b[0m\n\u001b[0m",
      "\u001b[0;31mModuleNotFoundError\u001b[0m: No module named 'grab'"
     ]
    }
   ],
   "source": [
    "from grab import Grab"
   ]
  },
  {
   "cell_type": "code",
   "execution_count": null,
   "metadata": {},
   "outputs": [],
   "source": []
  }
 ],
 "metadata": {
  "kernelspec": {
   "display_name": "Python 3",
   "language": "python",
   "name": "python3"
  },
  "language_info": {
   "codemirror_mode": {
    "name": "ipython",
    "version": 3
   },
   "file_extension": ".py",
   "mimetype": "text/x-python",
   "name": "python",
   "nbconvert_exporter": "python",
   "pygments_lexer": "ipython3",
   "version": "3.7.4"
  }
 },
 "nbformat": 4,
 "nbformat_minor": 2
}
