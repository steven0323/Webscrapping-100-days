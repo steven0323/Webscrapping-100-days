{
 "cells": [
  {
   "cell_type": "code",
   "execution_count": 54,
   "metadata": {},
   "outputs": [],
   "source": [
    "import re\n",
    "\n",
    "\n",
    "def reg_match_web(regex,input_text):\n",
    "    pattern = re.compile(regex)\n",
    "    result = re.search(pattern,input_text)\n",
    "    num = 0\n",
    "    if result:\n",
    "        print(\"Matched: %s\" % (result.group()))\n",
    "        # if there are multiple matches, store in group\n",
    "        # print out group\n",
    "        if result.lastindex is not None:\n",
    "           \n",
    "            for i in range(0,result.lastindex+1):\n",
    "                \n",
    "             \n",
    "                if i >=1:\n",
    "                    if int(result.group(i))>255:\n",
    "                        print('invalid')\n",
    "                        break\n",
    "      \n",
    "                print(\"  group(%d): %s\" % (i, result.group(i)))\n",
    "    else:\n",
    "        print(\"not matched\")\n",
    "def reg_match(regex,input_text):\n",
    "    pattern = re.compile(regex)\n",
    "    result = re.search(pattern,input_text)\n",
    "    num = 0\n",
    "    if result:\n",
    "        print(\"Matched: %s\" % (result.group()))\n",
    "        # if there are multiple matches, store in group\n",
    "        # print out group\n",
    "        if result.lastindex is not None:\n",
    "           \n",
    "            for i in range(0,result.lastindex+1):\n",
    "                print(\"  group(%d): %s\" % (i, result.group(i)))\n",
    "    else:\n",
    "        print(\"not matched\")"
   ]
  },
  {
   "cell_type": "code",
   "execution_count": 13,
   "metadata": {},
   "outputs": [
    {
     "name": "stdout",
     "output_type": "stream",
     "text": [
      "Matched: My plate number is XYZ-1234\n"
     ]
    }
   ],
   "source": [
    "test_string = \"My plate number is XYZ-1234.\"\n",
    "regex = 'My plate number is \\w\\w\\w-\\d\\d\\d\\d'\n",
    "reg_match(regex,test_string)"
   ]
  },
  {
   "cell_type": "code",
   "execution_count": 14,
   "metadata": {},
   "outputs": [
    {
     "name": "stdout",
     "output_type": "stream",
     "text": [
      "Matched: My plate number is XYZ-1234\n",
      "None\n"
     ]
    }
   ],
   "source": [
    "print(reg_match(regex,test_string))"
   ]
  },
  {
   "cell_type": "code",
   "execution_count": 16,
   "metadata": {},
   "outputs": [
    {
     "name": "stdout",
     "output_type": "stream",
     "text": [
      "Matched: My phone number is 0912-345 678\n"
     ]
    }
   ],
   "source": [
    "test_string = \"My phone number is 0912-345 678.\"\n",
    "regex = 'My phone number is \\d\\d\\d\\d-\\d\\d\\d\\s\\d\\d\\d'\n",
    "reg_match(regex, test_string)"
   ]
  },
  {
   "cell_type": "code",
   "execution_count": 18,
   "metadata": {},
   "outputs": [
    {
     "name": "stdout",
     "output_type": "stream",
     "text": [
      "Matched: My phone number is 0912-345 678\n"
     ]
    }
   ],
   "source": [
    "#利用量詞{n,m}來簡化寫法\n",
    "test_string = \"My phone number is 0912-345 678.\"\n",
    "regex = 'My phone number is \\d{4}-\\d{3}\\s{1}\\d{3}'\n",
    "reg_match(regex, test_string)"
   ]
  },
  {
   "cell_type": "code",
   "execution_count": 20,
   "metadata": {},
   "outputs": [
    {
     "name": "stdout",
     "output_type": "stream",
     "text": [
      "Matched: My phone number is 0912-345 678\n"
     ]
    }
   ],
   "source": [
    "# 更偷懶的寫法，用「.」來代表任何字元\n",
    "# space is a character\n",
    "test_string = \"My phone number is 0912-345 678.\"\n",
    "regex = 'My phone number is .{4}-.{3}.{1}.{3}'\n",
    "reg_match(regex,test_string)"
   ]
  },
  {
   "cell_type": "code",
   "execution_count": 24,
   "metadata": {},
   "outputs": [
    {
     "name": "stdout",
     "output_type": "stream",
     "text": [
      "Matched: I love dogs\n"
     ]
    }
   ],
   "source": [
    "test_string = \"I love dogs.\"\n",
    "regex = 'I love [acdgnost]+'\n",
    "# print out the first match letter\n",
    "# add + at the end of regex will print out whole match\n",
    "reg_match(regex, test_string)"
   ]
  },
  {
   "cell_type": "markdown",
   "metadata": {},
   "source": [
    "# 分組及捕捉"
   ]
  },
  {
   "cell_type": "code",
   "execution_count": 27,
   "metadata": {},
   "outputs": [
    {
     "name": "stdout",
     "output_type": "stream",
     "text": [
      "Matched: I like baseball sport\n",
      " group(0):I like baseball sport\n",
      " group(1):baseball\n"
     ]
    }
   ],
   "source": [
    "test_string = \"I like baseball sport.\"\n",
    "regex = 'I like (hiking|baseball) sport'\n",
    "reg_match(regex, test_string)"
   ]
  },
  {
   "cell_type": "code",
   "execution_count": 28,
   "metadata": {},
   "outputs": [
    {
     "name": "stdout",
     "output_type": "stream",
     "text": [
      "Matched: Please call number (02)2882-5252\n"
     ]
    }
   ],
   "source": [
    "test_string = \"Please call number (02)2882-5252.\"\n",
    "regex = 'Please call number \\([0-9]{2}\\)[0-9]{4}-[0-9]{4}'  #用「\\(」來匹配左括號\"(\"，用「\\)」來匹配右括號\")\"\n",
    "reg_match(regex,test_string)"
   ]
  },
  {
   "cell_type": "markdown",
   "metadata": {},
   "source": [
    "# 比對中文字"
   ]
  },
  {
   "cell_type": "code",
   "execution_count": 30,
   "metadata": {},
   "outputs": [
    {
     "name": "stdout",
     "output_type": "stream",
     "text": [
      "Matched: 中文字\n"
     ]
    }
   ],
   "source": [
    "test_string = \"Here are 中文字 and English\"  #中英夾雜的句子\n",
    "regex = '[\\u4e00-\\u9fa5]+'                  #中文的UNICODE，範圍是0x4E00 ~ 0x9FA5\n",
    "reg_match(regex, test_string)"
   ]
  },
  {
   "cell_type": "code",
   "execution_count": 31,
   "metadata": {},
   "outputs": [
    {
     "name": "stdout",
     "output_type": "stream",
     "text": [
      "Matched: 216.58.200.227\n",
      " group(0):216.58.200.227\n",
      " group(1):216\n",
      " group(2):58\n",
      " group(3):200\n",
      " group(4):227\n"
     ]
    }
   ],
   "source": [
    "test_string = \"Google IP address is 216.58.200.227\"\n",
    "\n",
    "# 過濾IP address的regex pattern\n",
    "regex = '(\\d{1,3}).(\\d{1,3}).(\\d{1,3}).(\\d{1,3})'\n",
    "reg_match(regex, test_string)"
   ]
  },
  {
   "cell_type": "code",
   "execution_count": 49,
   "metadata": {},
   "outputs": [
    {
     "name": "stdout",
     "output_type": "stream",
     "text": [
      "Matched: 216.58.200.227\n",
      "  group(0): 216.58.200.227\n",
      "  group(1): 216\n",
      "  group(2): 58\n",
      "  group(3): 200\n",
      "  group(4): 227\n",
      "Matched: 999.888.777.666\n",
      "  group(0): 999.888.777.666\n",
      "invalid\n"
     ]
    }
   ],
   "source": [
    "regex = '(\\d{1,3}).(\\d{1,3}).(\\d{1,3}).(\\d{1,3})'\n",
    "\n",
    "test_string1 = \"Test IP 216.58.200.227\"\n",
    "reg_match(regex, test_string1)  #測試表達式是否會匹配此合法IP\n",
    "\n",
    "test_string2 = \"Test IP 999.888.777.666\"\n",
    "reg_match(regex, test_string2)  #測試表達式是否會匹配此不合法IP\n",
    "\n"
   ]
  },
  {
   "cell_type": "code",
   "execution_count": null,
   "metadata": {},
   "outputs": [],
   "source": [
    "html_a_tag = \"<a href=https://movies.yahoo.com.tw/movietime_result.html/id=9467> 時刻表 </a>\"\n",
    "regex = 'https://\\w{6}.\\w{5}.\\w{3}.\\w{2}/\\w{9}_\\w{6}.\\w{4}/\\w{2}=\\d{4}'\n",
    "reg_match(regex,html_a_tag)\n",
    "\n",
    "\n",
    "\n",
    "\n"
   ]
  }
 ],
 "metadata": {
  "kernelspec": {
   "display_name": "Python 3",
   "language": "python",
   "name": "python3"
  },
  "language_info": {
   "codemirror_mode": {
    "name": "ipython",
    "version": 3
   },
   "file_extension": ".py",
   "mimetype": "text/x-python",
   "name": "python",
   "nbconvert_exporter": "python",
   "pygments_lexer": "ipython3",
   "version": "3.7.4"
  }
 },
 "nbformat": 4,
 "nbformat_minor": 2
}
